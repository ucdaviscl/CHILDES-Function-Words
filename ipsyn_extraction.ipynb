{
 "cells": [
  {
   "cell_type": "markdown",
   "metadata": {},
   "source": [
    "# IPSyn Score Extraction from CHILDES Transcripts\n",
    "Important Note: this script must be in the same directory as the transcripts"
   ]
  },
  {
   "cell_type": "code",
   "execution_count": null,
   "metadata": {},
   "outputs": [],
   "source": [
    "import os\n",
    "import csv\n",
    "from collections import Counter"
   ]
  },
  {
   "cell_type": "markdown",
   "metadata": {},
   "source": [
    "## Extracts IPSyn scores for each transcript and outputs to a CSV for each child"
   ]
  },
  {
   "cell_type": "markdown",
   "metadata": {},
   "source": [
    "### 50 Utterances"
   ]
  },
  {
   "cell_type": "code",
   "execution_count": null,
   "metadata": {},
   "outputs": [],
   "source": [
    "# Loop through all folders in the current working directory\n",
    "for root, subfolders, files in os.walk('.'):\n",
    "    total_scores = []  # Initialize a list to store the total scores for each folder\n",
    "    folder_name = os.path.basename(root)  # Get the name of the current folder\n",
    "    for file_name in files:\n",
    "        if file_name.endswith('.ipsyn.cex'):\n",
    "            file_path = os.path.join(root, file_name)\n",
    "            with open(file_path, 'r') as file:\n",
    "                content = file.read()\n",
    "                \n",
    "                # Extract the total score using a simple search\n",
    "                total_score_line = [line for line in content.splitlines() if line.startswith('Total =')]\n",
    "                if total_score_line:\n",
    "                    total_score = int(total_score_line[0].split('=')[1].strip())\n",
    "                    # Replace .ipsyn.cex with .cha in the file name\n",
    "                    new_file_name = file_name.replace('.ipsyn.cex', '.cha')\n",
    "                    total_scores.append((folder_name, new_file_name, total_score))\n",
    "\n",
    "            # Write the results to a new CSV file for the current folder\n",
    "            output_csv_name = os.path.join(root, f\"{folder_name}_ipsyn50.csv\")\n",
    "            with open(output_csv_name, mode='w', newline='') as output_csv:\n",
    "                csv_writer = csv.writer(output_csv)\n",
    "                # Write the header\n",
    "                csv_writer.writerow(['Folder', 'File', 'IPSyn Score'])\n",
    "                # Write the data\n",
    "                csv_writer.writerows(total_scores)\n"
   ]
  },
  {
   "cell_type": "markdown",
   "metadata": {},
   "source": [
    "### 100 Utterances"
   ]
  },
  {
   "cell_type": "code",
   "execution_count": null,
   "metadata": {},
   "outputs": [],
   "source": [
    "# Loop through all folders in the current working directory\n",
    "for root, subfolders, files in os.walk('.'):\n",
    "    total_scores = []  # Initialize a list to store the total scores for each folder\n",
    "    folder_name = os.path.basename(root)  # Get the name of the current folder\n",
    "    for file_name in files:\n",
    "        if file_name.endswith('.ipsyn-100.cex'):\n",
    "            file_path = os.path.join(root, file_name)\n",
    "            with open(file_path, 'r') as file:\n",
    "                content = file.read()\n",
    "                \n",
    "                # Extract the total score using a simple search\n",
    "                total_score_line = [line for line in content.splitlines() if line.startswith('Total =')]\n",
    "                if total_score_line:\n",
    "                    total_score = int(total_score_line[0].split('=')[1].strip())\n",
    "                    # Replace .ipsyn-100.cex with .cha in the file name\n",
    "                    new_file_name = file_name.replace('.ipsyn-100.cex', '.cha')\n",
    "                    total_scores.append((folder_name, new_file_name, total_score))\n",
    "\n",
    "            # Write the results to a new CSV file for the current folder\n",
    "            output_csv_name = os.path.join(root, f\"{folder_name}_ipsyn100.csv\")\n",
    "            with open(output_csv_name, mode='w', newline='') as output_csv:\n",
    "                csv_writer = csv.writer(output_csv)\n",
    "                # Write the header\n",
    "                csv_writer.writerow(['Folder', 'File', 'IPSyn Score'])\n",
    "                # Write the data\n",
    "                csv_writer.writerows(total_scores)"
   ]
  },
  {
   "cell_type": "markdown",
   "metadata": {},
   "source": [
    "### Note: CLAN IPSyn can only be computed on samples of size 50 or 100"
   ]
  }
 ],
 "metadata": {
  "language_info": {
   "name": "python"
  }
 },
 "nbformat": 4,
 "nbformat_minor": 2
}
