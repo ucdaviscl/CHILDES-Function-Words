{
 "cells": [
  {
   "cell_type": "markdown",
   "metadata": {},
   "source": [
    "# Function Word Extraction from CHILDES Transcripts\n",
    "Important Note: this script must be in the same directory as the transcripts"
   ]
  },
  {
   "cell_type": "code",
   "execution_count": 12,
   "metadata": {},
   "outputs": [],
   "source": [
    "import os\n",
    "import csv\n",
    "from collections import Counter"
   ]
  },
  {
   "cell_type": "markdown",
   "metadata": {},
   "source": [
    "## Function Word Categories"
   ]
  },
  {
   "cell_type": "code",
   "execution_count": 13,
   "metadata": {},
   "outputs": [],
   "source": [
    "# See https://talkbank.org/manuals/MOR.html#_Toc65933285 for part of speech codes\n",
    "# Note: This tagset only works after running the MOR program in CLAN\n",
    "function_word_categories = {'comp', 'conj', 'coord', 'det:art', 'inf', 'part', 'prep', 'qn', 'aux', 'cop', 'mod'}"
   ]
  },
  {
   "cell_type": "markdown",
   "metadata": {},
   "source": [
    "## Computes function word proportions for each transcript and outputs to a CSV file for each child"
   ]
  },
  {
   "cell_type": "markdown",
   "metadata": {},
   "source": [
    "### 50 Utterances"
   ]
  },
  {
   "cell_type": "code",
   "execution_count": 15,
   "metadata": {},
   "outputs": [],
   "source": [
    "# Get the current working directory\n",
    "current_directory = os.getcwd()\n",
    "\n",
    "# Loop through all folders in the current working directory\n",
    "for root, dirs, files in os.walk(current_directory):\n",
    "    # Create a new CSV file for each folder to store results\n",
    "    folder_name = os.path.basename(root)  # Get the name of the current folder\n",
    "    folder_csv_file = os.path.join(root, f'{folder_name}_function50.csv')\n",
    "    with open(folder_csv_file, mode='w', newline='') as csvfile:\n",
    "        csv_writer = csv.writer(csvfile)\n",
    "        csv_writer.writerow(['File', 'Most Common Function Words', 'Function Word Proportion'])\n",
    "\n",
    "        for filename in files:\n",
    "            if filename.endswith('.ipcore.cex'):  # Changed from .cha to .ipcore.cex\n",
    "                # Open the file and split it into lines\n",
    "                file_path = os.path.join(root, filename)\n",
    "                with open(file_path, 'r', encoding='utf-8') as file:\n",
    "                    lines = file.readlines()\n",
    "\n",
    "                # Only gets %mor lines if they are after a *CHI line\n",
    "                mor_lines = []\n",
    "                collect_mor = False\n",
    "                for line in lines:\n",
    "                    if line.startswith('*CHI:'):\n",
    "                        collect_mor = True\n",
    "                    elif line.startswith('%mor:\\t') and collect_mor:\n",
    "                        mor_lines.append(line[6:])  # Remove the first 6 characters which are '%mor:\\t'\n",
    "                        collect_mor = False\n",
    "\n",
    "                # Only replace ~ with spaces, keep | for processing\n",
    "                mor_lines = [line.replace('~', ' ') for line in mor_lines]\n",
    "\n",
    "                # Split the lines into tokens\n",
    "                mor_tokens = [line.split() for line in mor_lines]\n",
    "\n",
    "                # Count all tokens in the mor lines for the total token count\n",
    "                total_tokens = sum(len(sublist) for sublist in mor_tokens)\n",
    "\n",
    "                # Frequency of function words only (counted before '|')\n",
    "                function_word_counts = Counter()\n",
    "                for sublist in mor_tokens:\n",
    "                    for token in sublist:\n",
    "                        # Split the token on '|'\n",
    "                        parts = token.split('|')\n",
    "                        # Only count if the first part is a function word category\n",
    "                        if len(parts) > 1 and parts[0] in function_word_categories:\n",
    "                            function_word_counts[parts[0]] += 1\n",
    "\n",
    "                # Get the most common function words\n",
    "                most_common_function_words = function_word_counts.most_common()\n",
    "\n",
    "                # Calculate the proportion of function words out of all tokens\n",
    "                function_word_tokens = sum(function_word_counts.values())\n",
    "                function_word_proportion = function_word_tokens / total_tokens if total_tokens > 0 else 0  # prevents division by zero\n",
    "\n",
    "                # Write the results to the CSV file for the current folder\n",
    "                csv_writer.writerow([filename, most_common_function_words, function_word_proportion])"
   ]
  },
  {
   "cell_type": "markdown",
   "metadata": {},
   "source": [
    "### 100 Utterances"
   ]
  },
  {
   "cell_type": "code",
   "execution_count": 16,
   "metadata": {},
   "outputs": [],
   "source": [
    "# Get the current working directory\n",
    "current_directory = os.getcwd()\n",
    "\n",
    "# Loop through all folders in the current working directory\n",
    "for root, dirs, files in os.walk(current_directory):\n",
    "    # Create a new CSV file for each folder to store results\n",
    "    folder_name = os.path.basename(root)  # Get the name of the current folder\n",
    "    folder_csv_file = os.path.join(root, f'{folder_name}_function100.csv')\n",
    "    with open(folder_csv_file, mode='w', newline='') as csvfile:\n",
    "        csv_writer = csv.writer(csvfile)\n",
    "        csv_writer.writerow(['File', 'Most Common Function Words', 'Function Word Proportion'])\n",
    "\n",
    "        for filename in files:\n",
    "            if filename.endswith('.ipcore-100.cex'):  # Changed from .cha to .ipcore.cex\n",
    "                # Open the file and split it into lines\n",
    "                file_path = os.path.join(root, filename)\n",
    "                with open(file_path, 'r', encoding='utf-8') as file:\n",
    "                    lines = file.readlines()\n",
    "\n",
    "                # Only gets %mor lines if they are after a *CHI line\n",
    "                mor_lines = []\n",
    "                collect_mor = False\n",
    "                for line in lines:\n",
    "                    if line.startswith('*CHI:'):\n",
    "                        collect_mor = True\n",
    "                    elif line.startswith('%mor:\\t') and collect_mor:\n",
    "                        mor_lines.append(line[6:])  # Remove the first 6 characters which are '%mor:\\t'\n",
    "                        collect_mor = False\n",
    "\n",
    "                # Only replace ~ with spaces, keep | for processing\n",
    "                mor_lines = [line.replace('~', ' ') for line in mor_lines]\n",
    "\n",
    "                # Split the lines into tokens\n",
    "                mor_tokens = [line.split() for line in mor_lines]\n",
    "\n",
    "                # Count all tokens in the mor lines for the total token count\n",
    "                total_tokens = sum(len(sublist) for sublist in mor_tokens)\n",
    "\n",
    "                # Frequency of function words only (counted before '|')\n",
    "                function_word_counts = Counter()\n",
    "                for sublist in mor_tokens:\n",
    "                    for token in sublist:\n",
    "                        # Split the token on '|'\n",
    "                        parts = token.split('|')\n",
    "                        # Only count if the first part is a function word category\n",
    "                        if len(parts) > 1 and parts[0] in function_word_categories:\n",
    "                            function_word_counts[parts[0]] += 1\n",
    "\n",
    "                # Get the most common function words\n",
    "                most_common_function_words = function_word_counts.most_common()\n",
    "\n",
    "                # Calculate the proportion of function words out of all tokens\n",
    "                function_word_tokens = sum(function_word_counts.values())\n",
    "                function_word_proportion = function_word_tokens / total_tokens if total_tokens > 0 else 0  # prevents division by zero\n",
    "\n",
    "                # Write the results to the CSV file for the current folder\n",
    "                csv_writer.writerow([filename, most_common_function_words, function_word_proportion])"
   ]
  },
  {
   "cell_type": "markdown",
   "metadata": {},
   "source": [
    "### All Utterances"
   ]
  },
  {
   "cell_type": "code",
   "execution_count": null,
   "metadata": {},
   "outputs": [],
   "source": [
    "# Get the current working directory\n",
    "current_directory = os.getcwd()\n",
    "\n",
    "# Loop through all folders in the current working directory\n",
    "for root, dirs, files in os.walk(current_directory):\n",
    "    # Create a new CSV file for each folder to store results\n",
    "    folder_name = os.path.basename(root)  # Get the name of the current folder\n",
    "    folder_csv_file = os.path.join(root, f'{folder_name}_function.csv')\n",
    "    with open(folder_csv_file, mode='w', newline='') as csvfile:\n",
    "        csv_writer = csv.writer(csvfile)\n",
    "        csv_writer.writerow(['File', 'Most Common Function Words', 'Function Word Proportion'])\n",
    "\n",
    "        for filename in files:\n",
    "            if filename.endswith('.cha'):\n",
    "                # Open the file and split it into lines\n",
    "                file_path = os.path.join(root, filename)\n",
    "                with open(file_path, 'r', encoding='utf-8') as file:\n",
    "                    lines = file.readlines()\n",
    "\n",
    "                # Only gets %mor lines if they are after a *CHI line\n",
    "                mor_lines = []\n",
    "                collect_mor = False\n",
    "                for line in lines:\n",
    "                    if line.startswith('*CHI:'):\n",
    "                        collect_mor = True\n",
    "                    elif line.startswith('%mor:\\t') and collect_mor:\n",
    "                        mor_lines.append(line[6:])  # Remove the first 6 characters which are '%mor:\\t'\n",
    "                        collect_mor = False\n",
    "\n",
    "                # Only replace ~ with spaces, keep | for processing\n",
    "                mor_lines = [line.replace('~', ' ') for line in mor_lines]\n",
    "\n",
    "                # Split the lines into tokens\n",
    "                mor_tokens = [line.split() for line in mor_lines]\n",
    "\n",
    "                # Count all tokens in the mor lines for the total token count\n",
    "                total_tokens = sum(len(sublist) for sublist in mor_tokens)\n",
    "\n",
    "                # Frequency of function words only (counted before '|')\n",
    "                function_word_counts = Counter()\n",
    "                for sublist in mor_tokens:\n",
    "                    for token in sublist:\n",
    "                        # Split the token on '|'\n",
    "                        parts = token.split('|')\n",
    "                        # Only count if the first part is a function word category\n",
    "                        if len(parts) > 1 and parts[0] in function_word_categories:\n",
    "                            function_word_counts[parts[0]] += 1\n",
    "\n",
    "                # Get the most common function words\n",
    "                most_common_function_words = function_word_counts.most_common()\n",
    "\n",
    "                # Calculate the proportion of function words out of all tokens\n",
    "                function_word_tokens = sum(function_word_counts.values())\n",
    "                function_word_proportion = function_word_tokens / total_tokens if total_tokens > 0 else 0  # prevents division by zero\n",
    "\n",
    "                # Write the results to the CSV file for the current folder\n",
    "                csv_writer.writerow([filename, most_common_function_words, function_word_proportion])"
   ]
  }
 ],
 "metadata": {
  "kernelspec": {
   "display_name": "base",
   "language": "python",
   "name": "python3"
  },
  "language_info": {
   "codemirror_mode": {
    "name": "ipython",
    "version": 3
   },
   "file_extension": ".py",
   "mimetype": "text/x-python",
   "name": "python",
   "nbconvert_exporter": "python",
   "pygments_lexer": "ipython3",
   "version": "3.11.5"
  }
 },
 "nbformat": 4,
 "nbformat_minor": 2
}
